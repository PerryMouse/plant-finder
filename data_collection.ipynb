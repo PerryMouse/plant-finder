{
 "cells": [
  {
   "cell_type": "markdown",
   "id": "1cf91364-25e6-4609-a86a-af41e2cd5acd",
   "metadata": {
    "tags": []
   },
   "source": [
    "| Catagory | Source |\n",
    "| :-- | :-- |\n",
    "| common-name |  |\n",
    "| scientific-name |  |\n",
    "| blossom-color | garden.org |\n",
    "| foliage-color |  |\n",
    "| soil-type |  |\n",
    "| blossom-month |  |\n",
    "| evergreen |  |\n",
    "| height |  |\n",
    "| width |  |\n",
    "| water |  |\n",
    "| pruning |  |\n",
    "| shade |  |\n",
    "| pests |  |\n",
    "| nativity |  |\n",
    "| zone |  |"
   ]
  },
  {
   "cell_type": "code",
   "execution_count": 1,
   "id": "de4a1204-823e-4d4c-94d7-02225e2df7d9",
   "metadata": {},
   "outputs": [],
   "source": [
    "import time\n",
    "\n",
    "from bs4 import BeautifulSoup\n",
    "from selenium import webdriver\n",
    "\n",
    "driver = webdriver.Firefox(executable_path='./geckodriver.exe')\n",
    "driver.get(\"https://www.rhs.org.uk/plants/search-results?sunlight=3&aspect=3&soilType=2&moisture=2&pageSize=20&startFrom=60\")\n",
    "time.sleep(2)\n",
    "scroll_pause_time = 1\n",
    "screen_height = driver.execute_script(\"return window.screen.height;\")\n",
    "i = 1\n",
    "\n",
    "while True:\n",
    "    driver.execute_script(\"window.scrollTo(0, {screen_height}*{i});\".format(screen_height = screen_height, i = i))\n",
    "    i += 1\n",
    "    time.sleep(scroll_pause_time)\n",
    "    scroll_height = driver.execute_script(\"return document.body.scrollHeight;\")\n",
    "    if (screen_height) * i > scroll_height:\n",
    "        break"
   ]
  },
  {
   "cell_type": "code",
   "execution_count": null,
   "id": "b75b1f62-3aa2-4876-9853-97e43b71e013",
   "metadata": {},
   "outputs": [],
   "source": []
  }
 ],
 "metadata": {
  "kernelspec": {
   "display_name": "plant-finder",
   "language": "python",
   "name": "plant-finder"
  },
  "language_info": {
   "codemirror_mode": {
    "name": "ipython",
    "version": 3
   },
   "file_extension": ".py",
   "mimetype": "text/x-python",
   "name": "python",
   "nbconvert_exporter": "python",
   "pygments_lexer": "ipython3",
   "version": "3.9.7"
  }
 },
 "nbformat": 4,
 "nbformat_minor": 5
}
